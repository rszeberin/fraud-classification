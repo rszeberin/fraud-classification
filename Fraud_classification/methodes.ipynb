{
  "nbformat": 4,
  "nbformat_minor": 0,
  "metadata": {
    "colab": {
      "name": "methodes(2).ipynb",
      "provenance": [],
      "collapsed_sections": []
    },
    "kernelspec": {
      "display_name": "Python 3",
      "language": "python",
      "name": "python3"
    },
    "language_info": {
      "codemirror_mode": {
        "name": "ipython",
        "version": 3
      },
      "file_extension": ".py",
      "mimetype": "text/x-python",
      "name": "python",
      "nbconvert_exporter": "python",
      "pygments_lexer": "ipython3",
      "version": "3.8.3"
    }
  },
  "cells": [
    {
      "cell_type": "code",
      "metadata": {
        "colab": {
          "base_uri": "https://localhost:8080/"
        },
        "id": "GHMfA89iNiCn",
        "outputId": "d36258be-67b7-4565-be96-442952e509e7"
      },
      "source": [
        "from google.colab import drive\n",
        "drive.mount('/content/drive')"
      ],
      "execution_count": 1,
      "outputs": [
        {
          "output_type": "stream",
          "text": [
            "Mounted at /content/drive\n"
          ],
          "name": "stdout"
        }
      ]
    },
    {
      "cell_type": "code",
      "metadata": {
        "id": "EL8Tn0xfNm41"
      },
      "source": [
        "import numpy as np\n",
        "import pandas as pd"
      ],
      "execution_count": 2,
      "outputs": []
    },
    {
      "cell_type": "markdown",
      "metadata": {
        "id": "4gmaahOIGRfb"
      },
      "source": [
        "On récupère les données qui ont été tansformées"
      ]
    },
    {
      "cell_type": "code",
      "metadata": {
        "id": "0KhZW_uDNqdu",
        "colab": {
          "base_uri": "https://localhost:8080/"
        },
        "outputId": "f251964b-8e6b-47d5-e19d-2d86453c28d8"
      },
      "source": [
        "train_data = pd.read_csv('/content/drive/MyDrive/Colab Notebooks/MOST_AA/données/short_train.csv', index_col='TransactionID')\n",
        "test_data = pd.read_csv('/content/drive/MyDrive/Colab Notebooks/MOST_AA/données/short_test.csv', index_col='TransactionID')\n",
        "Y_train = pd.read_csv('/content/drive/MyDrive/Colab Notebooks/MOST_AA/données/Y_train.csv', index_col='TransactionID')\n",
        "\n",
        "print(\"loading successful!\")"
      ],
      "execution_count": 3,
      "outputs": [
        {
          "output_type": "stream",
          "text": [
            "loading successful!\n"
          ],
          "name": "stdout"
        }
      ]
    },
    {
      "cell_type": "markdown",
      "metadata": {
        "id": "EuL-LAIPIC8m"
      },
      "source": [
        "Colonne que l'on va mettre en index"
      ]
    },
    {
      "cell_type": "code",
      "metadata": {
        "id": "wWSq0RP-8wfT"
      },
      "source": [
        "df = test_data.reset_index(inplace=False)\r\n",
        "df.head(5)\r\n",
        "colTransactionID = df[\"TransactionID\"]"
      ],
      "execution_count": 4,
      "outputs": []
    },
    {
      "cell_type": "markdown",
      "metadata": {
        "id": "GfJzDa-GPgy3"
      },
      "source": [
        "# KNN"
      ]
    },
    {
      "cell_type": "code",
      "metadata": {
        "id": "Pylkbn-LOB8B",
        "colab": {
          "base_uri": "https://localhost:8080/"
        },
        "outputId": "8b53c3bb-4711-469d-a26f-dead11a1d284"
      },
      "source": [
        "from sklearn.neighbors import KNeighborsClassifier\n",
        "\n",
        "#instanciation\n",
        "knn = KNeighborsClassifier(n_neighbors=10)\n",
        "print(\"model done\")\n",
        "\n",
        "#training\n",
        "knn.fit(train_data.iloc[0:10000], Y_train.iloc[0:10000].values.ravel()) #on ne prend pas toutes les lignes sinon ca plante\n",
        "print(\"training done\")\n",
        "\n",
        "#prediction \n",
        "predictionKnn = pd.DataFrame(knn.predict(test_data))\n",
        "print(\"prediction done\")\n"
      ],
      "execution_count": 5,
      "outputs": [
        {
          "output_type": "stream",
          "text": [
            "model done\n",
            "training done\n",
            "prediction done\n"
          ],
          "name": "stdout"
        }
      ]
    },
    {
      "cell_type": "code",
      "metadata": {
        "id": "8oHUYN_W8-mo"
      },
      "source": [
        "predictionfinalKnn = pd.concat([colTransactionID, predictionKnn], axis=1)\r\n",
        "predictionfinalKnn.head(5)\r\n",
        "predictionfinalKnn.columns = [\"TransactionID\", \"isFraud\"]\r\n",
        "predictionfinalKnn.set_index([\"TransactionID\"], inplace = True)\r\n",
        "predictionfinalKnn.to_csv(\"/content/drive/MyDrive/Colab Notebooks/MOST_AA/données/submitKNN\")"
      ],
      "execution_count": 6,
      "outputs": []
    },
    {
      "cell_type": "code",
      "metadata": {
        "colab": {
          "base_uri": "https://localhost:8080/"
        },
        "id": "i0qxZJE_G9uO",
        "outputId": "b6c19139-4dbd-43c4-c071-8861b24f4a5d"
      },
      "source": [
        "predictionfinalKnn[\"isFraud\"].value_counts()"
      ],
      "execution_count": 7,
      "outputs": [
        {
          "output_type": "execute_result",
          "data": {
            "text/plain": [
              "0    505643\n",
              "1      1048\n",
              "Name: isFraud, dtype: int64"
            ]
          },
          "metadata": {
            "tags": []
          },
          "execution_count": 7
        }
      ]
    },
    {
      "cell_type": "markdown",
      "metadata": {
        "id": "ogZDpKtKHTnr"
      },
      "source": [
        "result submission (neightboors = 5) : 0.533"
      ]
    },
    {
      "cell_type": "markdown",
      "metadata": {
        "id": "dHHYbdYgNUZR"
      },
      "source": [
        "# SVM"
      ]
    },
    {
      "cell_type": "markdown",
      "metadata": {
        "id": "4h9dkuqGPhv8"
      },
      "source": [
        "### SVM LINEAR"
      ]
    },
    {
      "cell_type": "code",
      "metadata": {
        "id": "yG4A3yEyRhVw",
        "colab": {
          "base_uri": "https://localhost:8080/"
        },
        "outputId": "f7d6b320-da69-463a-a677-d057aae25379"
      },
      "source": [
        "from sklearn.svm import SVC\n",
        "#instanciation\n",
        "model_SVC = SVC(kernel= 'linear', gamma='scale', shrinking=True)\n",
        "print(\"model done\")\n",
        "\n",
        "#training\n",
        "model_SVC.fit(train_data.iloc[0:10000], Y_train.iloc[0:10000].values.ravel())\n",
        "print(\"training done\")\n",
        "\n",
        "#prediction \n",
        "predictionSVM = pd.DataFrame(model_SVC.predict(test_data))\n",
        "print(\"prediction done\")"
      ],
      "execution_count": 8,
      "outputs": [
        {
          "output_type": "stream",
          "text": [
            "model done\n",
            "training done\n",
            "prediction done\n"
          ],
          "name": "stdout"
        }
      ]
    },
    {
      "cell_type": "code",
      "metadata": {
        "id": "__F4UUI2AN-4"
      },
      "source": [
        "predictionfinalSVM = pd.concat([colTransactionID, predictionSVM], axis=1)\r\n",
        "predictionfinalSVM.head(5)\r\n",
        "predictionfinalSVM.columns = [\"TransactionID\", \"isFraud\"]\r\n",
        "predictionfinalSVM.set_index([\"TransactionID\"], inplace = True)\r\n",
        "predictionfinalSVM.to_csv(\"/content/drive/MyDrive/Colab Notebooks/MOST_AA/données/submitSVM\")"
      ],
      "execution_count": 9,
      "outputs": []
    },
    {
      "cell_type": "code",
      "metadata": {
        "id": "tYnWDWimB-8q",
        "colab": {
          "base_uri": "https://localhost:8080/"
        },
        "outputId": "41cacb91-4696-4c42-98d7-973f51dee62c"
      },
      "source": [
        "predictionfinalSVM[\"isFraud\"].value_counts()"
      ],
      "execution_count": 10,
      "outputs": [
        {
          "output_type": "execute_result",
          "data": {
            "text/plain": [
              "0    493584\n",
              "1     13107\n",
              "Name: isFraud, dtype: int64"
            ]
          },
          "metadata": {
            "tags": []
          },
          "execution_count": 10
        }
      ]
    },
    {
      "cell_type": "markdown",
      "metadata": {
        "id": "dDO5qkv4DLNI"
      },
      "source": [
        "submission result : 0.618"
      ]
    },
    {
      "cell_type": "markdown",
      "metadata": {
        "id": "M95oNTw2F4Wy"
      },
      "source": [
        "### SVM POLY"
      ]
    },
    {
      "cell_type": "code",
      "metadata": {
        "colab": {
          "base_uri": "https://localhost:8080/"
        },
        "id": "DI42qlOYFupO",
        "outputId": "508e92c0-d9fd-4e5c-b460-77da3a80764a"
      },
      "source": [
        "from sklearn.svm import SVC\r\n",
        "\r\n",
        "#instanciation\r\n",
        "model_SVC = SVC(kernel= 'poly', degree= 7, gamma='scale', shrinking=True)\r\n",
        "print(\"model done\")\r\n",
        "\r\n",
        "#training\r\n",
        "model_SVC.fit(train_data.iloc[0:10000], Y_train.iloc[0:10000].values.ravel())\r\n",
        "print(\"training done\")\r\n",
        "\r\n",
        "#prediction \r\n",
        "predictionSVMPoly = pd.DataFrame(model_SVC.predict(test_data))\r\n",
        "print(\"prediction done\")"
      ],
      "execution_count": 11,
      "outputs": [
        {
          "output_type": "stream",
          "text": [
            "model done\n",
            "training done\n",
            "prediction done\n"
          ],
          "name": "stdout"
        }
      ]
    },
    {
      "cell_type": "code",
      "metadata": {
        "id": "VlwvgFMYF_ss"
      },
      "source": [
        "predictionfinalSVMPoly = pd.concat([colTransactionID, predictionSVMPoly], axis=1)\r\n",
        "predictionfinalSVMPoly.head(5)\r\n",
        "predictionfinalSVMPoly.columns = [\"TransactionID\", \"isFraud\"]\r\n",
        "predictionfinalSVMPoly.set_index([\"TransactionID\"], inplace = True)\r\n",
        "predictionfinalSVMPoly.to_csv(\"/content/drive/MyDrive/Colab Notebooks/MOST_AA/données/submitSVMPoly\")"
      ],
      "execution_count": 12,
      "outputs": []
    },
    {
      "cell_type": "code",
      "metadata": {
        "colab": {
          "base_uri": "https://localhost:8080/"
        },
        "id": "FcrQ4WVHGBkm",
        "outputId": "e653eadb-72a3-4316-dac4-51be4f99d724"
      },
      "source": [
        "predictionfinalSVMPoly[\"isFraud\"].value_counts()"
      ],
      "execution_count": 13,
      "outputs": [
        {
          "output_type": "execute_result",
          "data": {
            "text/plain": [
              "0    500442\n",
              "1      6249\n",
              "Name: isFraud, dtype: int64"
            ]
          },
          "metadata": {
            "tags": []
          },
          "execution_count": 13
        }
      ]
    },
    {
      "cell_type": "markdown",
      "metadata": {
        "id": "jJaB9WS5IZaI"
      },
      "source": [
        "result submission (degree = 3) : 0.592"
      ]
    },
    {
      "cell_type": "markdown",
      "metadata": {
        "id": "e0g85D_PJMj2"
      },
      "source": [
        "result submission (degree = 7) : 0.586"
      ]
    },
    {
      "cell_type": "markdown",
      "metadata": {
        "id": "bJ8J_mcd0nhd"
      },
      "source": [
        "# LOGISTIC REGRESSION"
      ]
    },
    {
      "cell_type": "code",
      "metadata": {
        "id": "2nQgHfV30nho",
        "colab": {
          "base_uri": "https://localhost:8080/"
        },
        "outputId": "15588fb9-14aa-49dd-ddfb-2018c75e04d6"
      },
      "source": [
        "from sklearn.linear_model import LogisticRegression\n",
        "\n",
        "# SET UP\n",
        "lr = LogisticRegression(penalty='l2', max_iter=500, n_jobs=6, tol=1e-6, solver=\"sag\")\n",
        "print(\"set up done\")\n",
        "\n",
        "#training\n",
        "lr.fit(train_data.iloc[0:10000], Y_train.iloc[0:10000].values.ravel())\n",
        "print(\"training done\")\n",
        "\n",
        "#prediction\n",
        "Yhat_lr = lr.predict_proba(test_data)\n",
        "print(\"prediction done\")"
      ],
      "execution_count": 14,
      "outputs": [
        {
          "output_type": "stream",
          "text": [
            "set up done\n"
          ],
          "name": "stdout"
        },
        {
          "output_type": "stream",
          "text": [
            "/usr/local/lib/python3.7/dist-packages/sklearn/linear_model/_sag.py:330: ConvergenceWarning: The max_iter was reached which means the coef_ did not converge\n",
            "  \"the coef_ did not converge\", ConvergenceWarning)\n"
          ],
          "name": "stderr"
        },
        {
          "output_type": "stream",
          "text": [
            "training done\n",
            "prediction done\n"
          ],
          "name": "stdout"
        }
      ]
    },
    {
      "cell_type": "code",
      "metadata": {
        "id": "jxTLbcmkPFgg"
      },
      "source": [
        "predictionLinearRegression = pd.DataFrame(Yhat_lr[:,1])"
      ],
      "execution_count": 15,
      "outputs": []
    },
    {
      "cell_type": "code",
      "metadata": {
        "id": "AYhLOinrLgjx"
      },
      "source": [
        "predictionfinalLinearRegression = pd.concat([colTransactionID, predictionLinearRegression], axis=1)\r\n",
        "predictionfinalLinearRegression.head(5)\r\n",
        "predictionfinalLinearRegression.columns = [\"TransactionID\", \"isFraud\"]\r\n",
        "predictionfinalLinearRegression.set_index([\"TransactionID\"], inplace = True)\r\n",
        "predictionfinalLinearRegression.to_csv(\"/content/drive/MyDrive/Colab Notebooks/MOST_AA/données/submitLinearRegression\")"
      ],
      "execution_count": 16,
      "outputs": []
    },
    {
      "cell_type": "code",
      "metadata": {
        "colab": {
          "base_uri": "https://localhost:8080/"
        },
        "id": "ygpsF_FZHfKP",
        "outputId": "51696b55-15f6-4891-b2e9-9f3d6b8a45db"
      },
      "source": [
        "predictionfinalLinearRegression[\"isFraud\"].value_counts()"
      ],
      "execution_count": 17,
      "outputs": [
        {
          "output_type": "execute_result",
          "data": {
            "text/plain": [
              "1.000000    303\n",
              "1.000000     16\n",
              "1.000000     12\n",
              "1.000000     10\n",
              "1.000000      5\n",
              "           ... \n",
              "0.212222      1\n",
              "0.004041      1\n",
              "0.009787      1\n",
              "0.511037      1\n",
              "0.271174      1\n",
              "Name: isFraud, Length: 506339, dtype: int64"
            ]
          },
          "metadata": {
            "tags": []
          },
          "execution_count": 17
        }
      ]
    },
    {
      "cell_type": "markdown",
      "metadata": {
        "id": "oc8HT4LnL-Kl"
      },
      "source": [
        "result submission : 0.781"
      ]
    },
    {
      "cell_type": "markdown",
      "metadata": {
        "id": "V4eOLH6q0nhr"
      },
      "source": [
        "# RANDOM FOREST"
      ]
    },
    {
      "cell_type": "code",
      "metadata": {
        "id": "GgBSmcqO0nhs",
        "colab": {
          "base_uri": "https://localhost:8080/"
        },
        "outputId": "acd071db-a5ee-4c6e-9f09-95bfd5f0af01"
      },
      "source": [
        "from sklearn.ensemble import RandomForestClassifier\n",
        "\n",
        "#initialisation\n",
        "treeCount = 1000\n",
        "m = 15\n",
        "rf = RandomForestClassifier(max_features=m, min_samples_leaf=1, n_estimators=treeCount)\n",
        "print(\"end of initialisation\")\n",
        "\n",
        "#training\n",
        "rf.fit(train_data.iloc[20000:30000], Y_train.iloc[20000:30000].values.ravel())\n",
        "print(\"end of training\")\n",
        "\n",
        "#prediction\n",
        "Yhat_rf = rf.predict_proba(test_data)\n",
        "print(\"end of prediction\")\n"
      ],
      "execution_count": 18,
      "outputs": [
        {
          "output_type": "stream",
          "text": [
            "end of initialisation\n",
            "end of training\n",
            "end of prediction\n"
          ],
          "name": "stdout"
        }
      ]
    },
    {
      "cell_type": "code",
      "metadata": {
        "id": "VXPYw6Bj0nhu"
      },
      "source": [
        "predictionRandomForest = pd.DataFrame(Yhat_rf[:,1])"
      ],
      "execution_count": 19,
      "outputs": []
    },
    {
      "cell_type": "code",
      "metadata": {
        "id": "LfzPuFdvNsQh"
      },
      "source": [
        "predictionfinalRandomForest = pd.concat([colTransactionID, predictionRandomForest], axis=1)\r\n",
        "predictionfinalRandomForest.head(5)\r\n",
        "predictionfinalRandomForest.columns = [\"TransactionID\", \"isFraud\"]\r\n",
        "predictionfinalRandomForest.set_index([\"TransactionID\"], inplace = True)\r\n",
        "predictionfinalRandomForest.to_csv(\"/content/drive/MyDrive/Colab Notebooks/MOST_AA/données/submitRandomForest\")"
      ],
      "execution_count": 20,
      "outputs": []
    },
    {
      "cell_type": "code",
      "metadata": {
        "colab": {
          "base_uri": "https://localhost:8080/"
        },
        "id": "tIFoFRScHo2d",
        "outputId": "e1b61d9f-02e9-4862-a803-4cce747c0165"
      },
      "source": [
        "predictionfinalRandomForest[\"isFraud\"].value_counts()"
      ],
      "execution_count": 21,
      "outputs": [
        {
          "output_type": "execute_result",
          "data": {
            "text/plain": [
              "0.117    4135\n",
              "0.114    4044\n",
              "0.112    4041\n",
              "0.116    4039\n",
              "0.115    4018\n",
              "         ... \n",
              "0.903       1\n",
              "0.905       1\n",
              "0.910       1\n",
              "0.904       1\n",
              "0.915       1\n",
              "Name: isFraud, Length: 913, dtype: int64"
            ]
          },
          "metadata": {
            "tags": []
          },
          "execution_count": 21
        }
      ]
    },
    {
      "cell_type": "markdown",
      "metadata": {
        "id": "-kMTyOawOH74"
      },
      "source": [
        "result from submission : 0.87"
      ]
    }
  ]
}